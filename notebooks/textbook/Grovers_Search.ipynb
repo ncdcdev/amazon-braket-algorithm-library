{
 "cells": [
  {
   "cell_type": "markdown",
   "metadata": {},
   "source": [
    "# Grover's Search Algorithm\n"
   ]
  },
  {
   "cell_type": "markdown",
   "metadata": {},
   "source": [
    "Grover's algorithm is arguably one of the canonical quantum algorithms that kick-started the field of quantum computing. In the future, it could possibly serve as a hallmark application of quantum computing. Grover's algorithm allows us to find a particular register in an unordered database with $N$ entries in just $O(\\sqrt{N})$ steps, compared to the best classical algorithm taking on average $N/2$ steps, thereby providing a **quadratic speedup**. For large databases (with a large number of entries, $N$), a quadratic speedup can provide a significant advantage. For a database with one million entries, a quantum computer running Grover's algorithm would need about 1000 runs, while a classical computer would need, on average, $500,000$ runs.\n",
    "\n",
    "In this notebook, we implement Gover's algorithm based on ion-trap experiments [1]. In particular, we implement the phase oracle (see Figure 1d and 1e of this paper). For a compherensive description of the algorithm see Chapter 6 of [2]. In the ion-trap experiments [1], the oracle encodes bitstrings with length three. Here, we extend the bitstrings to arbitrary length. We use generalized Toffoli gates to construct the oracle. Following reference [3], the generalized Toffoli gates is decomposed into Toffoli gates.\n",
    "\n",
    "---\n",
    "\n",
    "# References <a name=\"ref\"></a>\n",
    "\n",
    "[1] C. Figgatt, D. Maslov, K. A. Landsman, N. M. Linke, S. Debnath & C. Monroe (2017). \"Complete 3-Qubit Grover search on a programmable quantum computer\", Nature Communications, Vol 8, Art 1918, doi:10.1038/s41467-017-01904-7. [arXiv:1703.10535](https://arxiv.org/abs/1703.10535).\n",
    "\n",
    "[2] Nielsen, Michael A., Chuang, Isaac L. (2010). Quantum Computation and Quantum Information (2nd ed.). Cambridge: Cambridge University Press.\n",
    "\n",
    "[3] J. M. Baker, C. Duckering, A. Hoover, F. T. Chong (2019). Decomposing Quantum Generalized Toffoli with an Arbitrary Number of Ancilla. [arXiv:1904.01671](https://arxiv.org/abs/1904.01671).\n"
   ]
  },
  {
   "cell_type": "code",
   "execution_count": 196,
   "metadata": {},
   "outputs": [],
   "source": [
    "from notebook_plotting import plot_bitstrings_formatted\n",
    "# import numpy as np\n",
    "\n",
    "%matplotlib inline\n",
    "\n",
    "from braket.aws import AwsDevice\n",
    "\n",
    "# from braket.circuits import Circuit\n",
    "from braket.devices import LocalSimulator\n",
    "# from braket.tracking import Tracker\n",
    "\n",
    "from braket.experimental.algorithms.grovers_search import (\n",
    "    build_oracle,\n",
    "    grovers_search,\n",
    ")\n",
    "import math"
   ]
  },
  {
   "cell_type": "code",
   "execution_count": 176,
   "metadata": {},
   "outputs": [
    {
     "name": "stdout",
     "output_type": "stream",
     "text": [
      "number of data qubits:  5\n",
      "number of ancilla qubits:  5\n",
      "T  : │  0  │        1        │  2  │  3  │  4  │     5     │  6  │     7     │     8     │  9  │ 10  │ 11  │    12     │ 13  │    14     │    15     │ 16  │ 17  │ 18  │    19     │ 20  │    21     │    22     │ 23  │ 24  │ 25  │    26     │ 27  │    28     │    29     │ 30  │ 31  │ 32  │    33     │ 34  │    35     │    36     │ 37  │ 38  │ 39  │    40     │ 41  │    42     │    43     │ 44  │ 45  │ 46  │    47     │ 48  │    49     │    50     │ 51  │ 52  │ 53  │    54     │ 55  │    56     │    57     │ 58  │ 59  │ 60  │    61     │ 62  │    63     │    64     │ 65  │ 66  │ 67  │    68     │ 69  │ 70  │ Result Types  │\n",
      "      ┌───┐                                     ┌───┐       ┌───┐                                           ┌───┐       ┌───┐                                           ┌───┐       ┌───┐                                           ┌───┐       ┌───┐                                           ┌───┐       ┌───┐                                           ┌───┐       ┌───┐                                           ┌───┐       ┌───┐                                           ┌───┐       ┌───┐                                           ┌───┐       ┌───┐                                           ┌───┐       ┌───┐       ┌─────────────┐ \n",
      "q0 : ─┤ H ├───●─────────────────────────────●───┤ H ├───────┤ X ├─────────●─────────────────────────────●───┤ X ├───────┤ H ├─────────●─────────────────────────────●───┤ H ├───────┤ X ├─────────●─────────────────────────────●───┤ X ├───────┤ H ├─────────●─────────────────────────────●───┤ H ├───────┤ X ├─────────●─────────────────────────────●───┤ X ├───────┤ H ├─────────●─────────────────────────────●───┤ H ├───────┤ X ├─────────●─────────────────────────────●───┤ X ├───────┤ H ├─────────●─────────────────────────────●───┤ H ├───────┤ X ├─────────●─────────────────────────────●───┤ X ├───────┤ H ├───────┤ Probability ├─\n",
      "      └───┘   │                             │   └───┘       └───┘         │                             │   └───┘       └───┘         │                             │   └───┘       └───┘         │                             │   └───┘       └───┘         │                             │   └───┘       └───┘         │                             │   └───┘       └───┘         │                             │   └───┘       └───┘         │                             │   └───┘       └───┘         │                             │   └───┘       └───┘         │                             │   └───┘       └───┘       └──────┬──────┘ \n",
      "      ┌───┐   │                             │   ┌───┐       ┌───┐         │                             │   ┌───┐       ┌───┐         │                             │   ┌───┐       ┌───┐         │                             │   ┌───┐       ┌───┐         │                             │   ┌───┐       ┌───┐         │                             │   ┌───┐       ┌───┐         │                             │   ┌───┐       ┌───┐         │                             │   ┌───┐       ┌───┐         │                             │   ┌───┐       ┌───┐         │                             │   ┌───┐       ┌───┐       ┌──────┴──────┐ \n",
      "q1 : ─┤ H ├───●─────────────────────────────●───┤ H ├───────┤ X ├─────────●─────────────────────────────●───┤ X ├───────┤ H ├─────────●─────────────────────────────●───┤ H ├───────┤ X ├─────────●─────────────────────────────●───┤ X ├───────┤ H ├─────────●─────────────────────────────●───┤ H ├───────┤ X ├─────────●─────────────────────────────●───┤ X ├───────┤ H ├─────────●─────────────────────────────●───┤ H ├───────┤ X ├─────────●─────────────────────────────●───┤ X ├───────┤ H ├─────────●─────────────────────────────●───┤ H ├───────┤ X ├─────────●─────────────────────────────●───┤ X ├───────┤ H ├───────┤ Probability ├─\n",
      "      └───┘   │                             │   └───┘       └───┘         │                             │   └───┘       └───┘         │                             │   └───┘       └───┘         │                             │   └───┘       └───┘         │                             │   └───┘       └───┘         │                             │   └───┘       └───┘         │                             │   └───┘       └───┘         │                             │   └───┘       └───┘         │                             │   └───┘       └───┘         │                             │   └───┘       └───┘       └──────┬──────┘ \n",
      "      ┌───┐   │                             │               ┌───┐ ┌───┐   │                             │               ┌───┐ ┌───┐   │                             │               ┌───┐ ┌───┐   │                             │               ┌───┐ ┌───┐   │                             │               ┌───┐ ┌───┐   │                             │               ┌───┐ ┌───┐   │                             │               ┌───┐ ┌───┐   │                             │               ┌───┐ ┌───┐   │                             │               ┌───┐ ┌───┐   │                             │               ┌───┐ ┌───┐ ┌──────┴──────┐ \n",
      "q2 : ─┤ H ├───┼─────●───────────────────────┼───────────●───┤ H ├─┤ X ├───┼─────●───────────────────────┼───────────●───┤ X ├─┤ H ├───┼─────●───────────────────────┼───────────●───┤ H ├─┤ X ├───┼─────●───────────────────────┼───────────●───┤ X ├─┤ H ├───┼─────●───────────────────────┼───────────●───┤ H ├─┤ X ├───┼─────●───────────────────────┼───────────●───┤ X ├─┤ H ├───┼─────●───────────────────────┼───────────●───┤ H ├─┤ X ├───┼─────●───────────────────────┼───────────●───┤ X ├─┤ H ├───┼─────●───────────────────────┼───────────●───┤ H ├─┤ X ├───┼─────●───────────────────────┼───────────●───┤ X ├─┤ H ├─┤ Probability ├─\n",
      "      └───┘   │     │                       │           │   └───┘ └───┘   │     │                       │           │   └───┘ └───┘   │     │                       │           │   └───┘ └───┘   │     │                       │           │   └───┘ └───┘   │     │                       │           │   └───┘ └───┘   │     │                       │           │   └───┘ └───┘   │     │                       │           │   └───┘ └───┘   │     │                       │           │   └───┘ └───┘   │     │                       │           │   └───┘ └───┘   │     │                       │           │   └───┘ └───┘ └──────┬──────┘ \n",
      "      ┌───┐   │     │                       │           │   ┌───┐ ┌───┐   │     │                       │           │   ┌───┐ ┌───┐   │     │                       │           │   ┌───┐ ┌───┐   │     │                       │           │   ┌───┐ ┌───┐   │     │                       │           │   ┌───┐ ┌───┐   │     │                       │           │   ┌───┐ ┌───┐   │     │                       │           │   ┌───┐ ┌───┐   │     │                       │           │   ┌───┐ ┌───┐   │     │                       │           │   ┌───┐ ┌───┐   │     │                       │           │   ┌───┐ ┌───┐ ┌──────┴──────┐ \n",
      "q3 : ─┤ H ├───┼─────┼─────●─────────────────┼─────●─────┼───┤ H ├─┤ X ├───┼─────┼─────●─────────────────┼─────●─────┼───┤ X ├─┤ H ├───┼─────┼─────●─────────────────┼─────●─────┼───┤ H ├─┤ X ├───┼─────┼─────●─────────────────┼─────●─────┼───┤ X ├─┤ H ├───┼─────┼─────●─────────────────┼─────●─────┼───┤ H ├─┤ X ├───┼─────┼─────●─────────────────┼─────●─────┼───┤ X ├─┤ H ├───┼─────┼─────●─────────────────┼─────●─────┼───┤ H ├─┤ X ├───┼─────┼─────●─────────────────┼─────●─────┼───┤ X ├─┤ H ├───┼─────┼─────●─────────────────┼─────●─────┼───┤ H ├─┤ X ├───┼─────┼─────●─────────────────┼─────●─────┼───┤ X ├─┤ H ├─┤ Probability ├─\n",
      "      └───┘   │     │     │                 │     │     │   └───┘ └───┘   │     │     │                 │     │     │   └───┘ └───┘   │     │     │                 │     │     │   └───┘ └───┘   │     │     │                 │     │     │   └───┘ └───┘   │     │     │                 │     │     │   └───┘ └───┘   │     │     │                 │     │     │   └───┘ └───┘   │     │     │                 │     │     │   └───┘ └───┘   │     │     │                 │     │     │   └───┘ └───┘   │     │     │                 │     │     │   └───┘ └───┘   │     │     │                 │     │     │   └───┘ └───┘ └──────┬──────┘ \n",
      "      ┌───┐   │     │     │                 │     │     │   ┌───┐ ┌───┐   │     │     │                 │     │     │   ┌───┐ ┌───┐   │     │     │                 │     │     │   ┌───┐ ┌───┐   │     │     │                 │     │     │   ┌───┐ ┌───┐   │     │     │                 │     │     │   ┌───┐ ┌───┐   │     │     │                 │     │     │   ┌───┐ ┌───┐   │     │     │                 │     │     │   ┌───┐ ┌───┐   │     │     │                 │     │     │   ┌───┐ ┌───┐   │     │     │                 │     │     │   ┌───┐ ┌───┐   │     │     │                 │     │     │   ┌───┐ ┌───┐ ┌──────┴──────┐ \n",
      "q4 : ─┤ H ├───┼─────┼─────●─────────────────┼─────●─────┼───┤ H ├─┤ X ├───┼─────┼─────●─────────────────┼─────●─────┼───┤ X ├─┤ H ├───┼─────┼─────●─────────────────┼─────●─────┼───┤ H ├─┤ X ├───┼─────┼─────●─────────────────┼─────●─────┼───┤ X ├─┤ H ├───┼─────┼─────●─────────────────┼─────●─────┼───┤ H ├─┤ X ├───┼─────┼─────●─────────────────┼─────●─────┼───┤ X ├─┤ H ├───┼─────┼─────●─────────────────┼─────●─────┼───┤ H ├─┤ X ├───┼─────┼─────●─────────────────┼─────●─────┼───┤ X ├─┤ H ├───┼─────┼─────●─────────────────┼─────●─────┼───┤ H ├─┤ X ├───┼─────┼─────●─────────────────┼─────●─────┼───┤ X ├─┤ H ├─┤ Probability ├─\n",
      "      └───┘   │     │     │                 │     │     │   └───┘ └───┘   │     │     │                 │     │     │   └───┘ └───┘   │     │     │                 │     │     │   └───┘ └───┘   │     │     │                 │     │     │   └───┘ └───┘   │     │     │                 │     │     │   └───┘ └───┘   │     │     │                 │     │     │   └───┘ └───┘   │     │     │                 │     │     │   └───┘ └───┘   │     │     │                 │     │     │   └───┘ └───┘   │     │     │                 │     │     │   └───┘ └───┘   │     │     │                 │     │     │   └───┘ └───┘ └─────────────┘ \n",
      "            ┌─┴─┐   │     │               ┌─┴─┐   │     │               ┌─┴─┐   │     │               ┌─┴─┐   │     │               ┌─┴─┐   │     │               ┌─┴─┐   │     │               ┌─┴─┐   │     │               ┌─┴─┐   │     │               ┌─┴─┐   │     │               ┌─┴─┐   │     │               ┌─┴─┐   │     │               ┌─┴─┐   │     │               ┌─┴─┐   │     │               ┌─┴─┐   │     │               ┌─┴─┐   │     │               ┌─┴─┐   │     │               ┌─┴─┐   │     │               ┌─┴─┐   │     │               ┌─┴─┐   │     │               ┌─┴─┐   │     │                               \n",
      "q5 : ───────┤ X ├───┼─────┼───────────●───┤ X ├───┼─────┼───────────────┤ X ├───┼─────┼───────────●───┤ X ├───┼─────┼───────────────┤ X ├───┼─────┼───────────●───┤ X ├───┼─────┼───────────────┤ X ├───┼─────┼───────────●───┤ X ├───┼─────┼───────────────┤ X ├───┼─────┼───────────●───┤ X ├───┼─────┼───────────────┤ X ├───┼─────┼───────────●───┤ X ├───┼─────┼───────────────┤ X ├───┼─────┼───────────●───┤ X ├───┼─────┼───────────────┤ X ├───┼─────┼───────────●───┤ X ├───┼─────┼───────────────┤ X ├───┼─────┼───────────●───┤ X ├───┼─────┼───────────────┤ X ├───┼─────┼───────────●───┤ X ├───┼─────┼───────────────────────────────\n",
      "            └───┘   │     │           │   └───┘   │     │               └───┘   │     │           │   └───┘   │     │               └───┘   │     │           │   └───┘   │     │               └───┘   │     │           │   └───┘   │     │               └───┘   │     │           │   └───┘   │     │               └───┘   │     │           │   └───┘   │     │               └───┘   │     │           │   └───┘   │     │               └───┘   │     │           │   └───┘   │     │               └───┘   │     │           │   └───┘   │     │               └───┘   │     │           │   └───┘   │     │                               \n",
      "                  ┌─┴─┐   │           │           │   ┌─┴─┐                   ┌─┴─┐   │           │           │   ┌─┴─┐                   ┌─┴─┐   │           │           │   ┌─┴─┐                   ┌─┴─┐   │           │           │   ┌─┴─┐                   ┌─┴─┐   │           │           │   ┌─┴─┐                   ┌─┴─┐   │           │           │   ┌─┴─┐                   ┌─┴─┐   │           │           │   ┌─┴─┐                   ┌─┴─┐   │           │           │   ┌─┴─┐                   ┌─┴─┐   │           │           │   ┌─┴─┐                   ┌─┴─┐   │           │           │   ┌─┴─┐                             \n",
      "q6 : ─────────────┤ X ├───┼─────●─────┼─────●─────┼───┤ X ├───────────────────┤ X ├───┼─────●─────┼─────●─────┼───┤ X ├───────────────────┤ X ├───┼─────●─────┼─────●─────┼───┤ X ├───────────────────┤ X ├───┼─────●─────┼─────●─────┼───┤ X ├───────────────────┤ X ├───┼─────●─────┼─────●─────┼───┤ X ├───────────────────┤ X ├───┼─────●─────┼─────●─────┼───┤ X ├───────────────────┤ X ├───┼─────●─────┼─────●─────┼───┤ X ├───────────────────┤ X ├───┼─────●─────┼─────●─────┼───┤ X ├───────────────────┤ X ├───┼─────●─────┼─────●─────┼───┤ X ├───────────────────┤ X ├───┼─────●─────┼─────●─────┼───┤ X ├─────────────────────────────\n",
      "                  └───┘   │     │     │     │     │   └───┘                   └───┘   │     │     │     │     │   └───┘                   └───┘   │     │     │     │     │   └───┘                   └───┘   │     │     │     │     │   └───┘                   └───┘   │     │     │     │     │   └───┘                   └───┘   │     │     │     │     │   └───┘                   └───┘   │     │     │     │     │   └───┘                   └───┘   │     │     │     │     │   └───┘                   └───┘   │     │     │     │     │   └───┘                   └───┘   │     │     │     │     │   └───┘                             \n",
      "                        ┌─┴─┐   │     │     │   ┌─┴─┐                               ┌─┴─┐   │     │     │   ┌─┴─┐                               ┌─┴─┐   │     │     │   ┌─┴─┐                               ┌─┴─┐   │     │     │   ┌─┴─┐                               ┌─┴─┐   │     │     │   ┌─┴─┐                               ┌─┴─┐   │     │     │   ┌─┴─┐                               ┌─┴─┐   │     │     │   ┌─┴─┐                               ┌─┴─┐   │     │     │   ┌─┴─┐                               ┌─┴─┐   │     │     │   ┌─┴─┐                               ┌─┴─┐   │     │     │   ┌─┴─┐                                   \n",
      "q7 : ───────────────────┤ X ├───●─────┼─────●───┤ X ├───────────────────────────────┤ X ├───●─────┼─────●───┤ X ├───────────────────────────────┤ X ├───●─────┼─────●───┤ X ├───────────────────────────────┤ X ├───●─────┼─────●───┤ X ├───────────────────────────────┤ X ├───●─────┼─────●───┤ X ├───────────────────────────────┤ X ├───●─────┼─────●───┤ X ├───────────────────────────────┤ X ├───●─────┼─────●───┤ X ├───────────────────────────────┤ X ├───●─────┼─────●───┤ X ├───────────────────────────────┤ X ├───●─────┼─────●───┤ X ├───────────────────────────────┤ X ├───●─────┼─────●───┤ X ├───────────────────────────────────\n",
      "                        └───┘   │     │     │   └───┘                               └───┘   │     │     │   └───┘                               └───┘   │     │     │   └───┘                               └───┘   │     │     │   └───┘                               └───┘   │     │     │   └───┘                               └───┘   │     │     │   └───┘                               └───┘   │     │     │   └───┘                               └───┘   │     │     │   └───┘                               └───┘   │     │     │   └───┘                               └───┘   │     │     │   └───┘                                   \n",
      "                              ┌─┴─┐   │   ┌─┴─┐                                           ┌─┴─┐   │   ┌─┴─┐                                           ┌─┴─┐   │   ┌─┴─┐                                           ┌─┴─┐   │   ┌─┴─┐                                           ┌─┴─┐   │   ┌─┴─┐                                           ┌─┴─┐   │   ┌─┴─┐                                           ┌─┴─┐   │   ┌─┴─┐                                           ┌─┴─┐   │   ┌─┴─┐                                           ┌─┴─┐   │   ┌─┴─┐                                           ┌─┴─┐   │   ┌─┴─┐                                         \n",
      "q8 : ─────────────────────────┤ X ├───●───┤ X ├───────────────────────────────────────────┤ X ├───●───┤ X ├───────────────────────────────────────────┤ X ├───●───┤ X ├───────────────────────────────────────────┤ X ├───●───┤ X ├───────────────────────────────────────────┤ X ├───●───┤ X ├───────────────────────────────────────────┤ X ├───●───┤ X ├───────────────────────────────────────────┤ X ├───●───┤ X ├───────────────────────────────────────────┤ X ├───●───┤ X ├───────────────────────────────────────────┤ X ├───●───┤ X ├───────────────────────────────────────────┤ X ├───●───┤ X ├─────────────────────────────────────────\n",
      "                              └───┘   │   └───┘                                           └───┘   │   └───┘                                           └───┘   │   └───┘                                           └───┘   │   └───┘                                           └───┘   │   └───┘                                           └───┘   │   └───┘                                           └───┘   │   └───┘                                           └───┘   │   └───┘                                           └───┘   │   └───┘                                           └───┘   │   └───┘                                         \n",
      "      ┌───┐ ┌───┐                   ┌─┴─┐ ┌───┐ ┌───┐       ┌───┐ ┌───┐                         ┌─┴─┐ ┌───┐ ┌───┐       ┌───┐ ┌───┐                         ┌─┴─┐ ┌───┐ ┌───┐       ┌───┐ ┌───┐                         ┌─┴─┐ ┌───┐ ┌───┐       ┌───┐ ┌───┐                         ┌─┴─┐ ┌───┐ ┌───┐       ┌───┐ ┌───┐                         ┌─┴─┐ ┌───┐ ┌───┐       ┌───┐ ┌───┐                         ┌─┴─┐ ┌───┐ ┌───┐       ┌───┐ ┌───┐                         ┌─┴─┐ ┌───┐ ┌───┐       ┌───┐ ┌───┐                         ┌─┴─┐ ┌───┐ ┌───┐       ┌───┐ ┌───┐                         ┌─┴─┐ ┌───┐ ┌───┐                                   \n",
      "q9 : ─┤ X ├─┤ H ├───────────────────┤ X ├─┤ H ├─┤ X ├───────┤ X ├─┤ H ├─────────────────────────┤ X ├─┤ H ├─┤ X ├───────┤ X ├─┤ H ├─────────────────────────┤ X ├─┤ H ├─┤ X ├───────┤ X ├─┤ H ├─────────────────────────┤ X ├─┤ H ├─┤ X ├───────┤ X ├─┤ H ├─────────────────────────┤ X ├─┤ H ├─┤ X ├───────┤ X ├─┤ H ├─────────────────────────┤ X ├─┤ H ├─┤ X ├───────┤ X ├─┤ H ├─────────────────────────┤ X ├─┤ H ├─┤ X ├───────┤ X ├─┤ H ├─────────────────────────┤ X ├─┤ H ├─┤ X ├───────┤ X ├─┤ H ├─────────────────────────┤ X ├─┤ H ├─┤ X ├───────┤ X ├─┤ H ├─────────────────────────┤ X ├─┤ H ├─┤ X ├───────────────────────────────────\n",
      "      └───┘ └───┘                   └───┘ └───┘ └───┘       └───┘ └───┘                         └───┘ └───┘ └───┘       └───┘ └───┘                         └───┘ └───┘ └───┘       └───┘ └───┘                         └───┘ └───┘ └───┘       └───┘ └───┘                         └───┘ └───┘ └───┘       └───┘ └───┘                         └───┘ └───┘ └───┘       └───┘ └───┘                         └───┘ └───┘ └───┘       └───┘ └───┘                         └───┘ └───┘ └───┘       └───┘ └───┘                         └───┘ └───┘ └───┘       └───┘ └───┘                         └───┘ └───┘ └───┘                                   \n",
      "T  : │  0  │        1        │  2  │  3  │  4  │     5     │  6  │     7     │     8     │  9  │ 10  │ 11  │    12     │ 13  │    14     │    15     │ 16  │ 17  │ 18  │    19     │ 20  │    21     │    22     │ 23  │ 24  │ 25  │    26     │ 27  │    28     │    29     │ 30  │ 31  │ 32  │    33     │ 34  │    35     │    36     │ 37  │ 38  │ 39  │    40     │ 41  │    42     │    43     │ 44  │ 45  │ 46  │    47     │ 48  │    49     │    50     │ 51  │ 52  │ 53  │    54     │ 55  │    56     │    57     │ 58  │ 59  │ 60  │    61     │ 62  │    63     │    64     │ 65  │ 66  │ 67  │    68     │ 69  │ 70  │ Result Types  │\n"
     ]
    }
   ],
   "source": [
    "solution = \"11111\"\n",
    "n_qubits = len(solution)\n",
    "\n",
    "oracle = build_oracle(solution)\n",
    "circuit = grovers_search(oracle, n_qubits=n_qubits, n_reps=5)\n",
    "\n",
    "print(\"number of data qubits: \", n_qubits)\n",
    "print(\"number of ancilla qubits: \", circuit.qubit_count - n_qubits)\n",
    "print(circuit)"
   ]
  },
  {
   "cell_type": "markdown",
   "metadata": {},
   "source": [
    "# Run on a local simulator\n",
    "\n",
    "We demonstrate Grover's algorithm on a classical simulator first. You can choose between a local simulator or an on-demand simulator.\n"
   ]
  },
  {
   "cell_type": "code",
   "execution_count": 177,
   "metadata": {},
   "outputs": [],
   "source": [
    "# local_simulator = LocalSimulator()"
   ]
  },
  {
   "cell_type": "code",
   "execution_count": 178,
   "metadata": {},
   "outputs": [],
   "source": [
    "# task = local_simulator.run(circuit, shots=1000)\n",
    "# print(task)"
   ]
  },
  {
   "cell_type": "code",
   "execution_count": 179,
   "metadata": {},
   "outputs": [],
   "source": [
    "# result = task.result()\n",
    "# probabilities = result.values[0]\n",
    "# print(probabilities)"
   ]
  },
  {
   "cell_type": "code",
   "execution_count": 180,
   "metadata": {},
   "outputs": [],
   "source": [
    "# plot_bitstrings_formatted(probabilities)"
   ]
  },
  {
   "cell_type": "markdown",
   "metadata": {},
   "source": [
    "# Run on a QPU or an on-demand simulator\n",
    "\n",
    "Now we run on IonQ. Toffoli gate (CCNot) is not a supported gate of IonQ device. We use the `decompose_ccnot=True` to decompose the Toffoli gate into CNot, Ti, T and H gates.\n"
   ]
  },
  {
   "cell_type": "code",
   "execution_count": 181,
   "metadata": {},
   "outputs": [],
   "source": [
    "# device = AwsDevice(\"arn:aws:braket:::device/qpu/ionq/ionQdevice\") # QPU\n",
    "device = AwsDevice(\"arn:aws:braket:::device/quantum-simulator/amazon/sv1\")  # on-demand simulator"
   ]
  },
  {
   "cell_type": "code",
   "execution_count": 182,
   "metadata": {},
   "outputs": [],
   "source": [
    "from braket.tracking import Tracker\n",
    "\n",
    "tracker = Tracker().start()"
   ]
  },
  {
   "cell_type": "code",
   "execution_count": 200,
   "metadata": {},
   "outputs": [
    {
     "name": "stdout",
     "output_type": "stream",
     "text": [
      "1 : 0.253\n",
      "2 : 0.587\n",
      "3 : 0.908\n",
      "4 : 1.0\n",
      "5 : 0.858\n",
      "6 : 0.554\n"
     ]
    }
   ],
   "source": [
    "# solution = \"1111111111\"\n",
    "solution = \"11111\"\n",
    "n_qubits = len(solution)\n",
    "\n",
    "# oracle = build_oracle(solution)\n",
    "# circuit = grovers_search(oracle, n_qubits=n_qubits, n_reps=5)\n",
    "oracle = build_oracle(solution, decompose_ccnot=True)\n",
    "# print(\"number of data qubits: \", n_qubits)\n",
    "# print(\"number of ancilla qubits: \", circuit.qubit_count - n_qubits)\n",
    "# print(circuit)\n",
    "\n",
    "# 最適な反復回数 + 2\n",
    "r = int(math.pi / 4 * math.sqrt(2**n_qubits) + 2)\n",
    "\n",
    "for i in range(1, r + 1):\n",
    "    # oracle = build_oracle(solution, decompose_ccnot=True)\n",
    "    circuit_qpu = grovers_search(oracle, n_qubits=n_qubits, n_reps=i, decompose_ccnot=True)\n",
    "    qpu_task = device.run(circuit_qpu, shots=1000)\n",
    "    qpu_result = qpu_task.result()\n",
    "    probabilities = qpu_result.values[0]\n",
    "    print(i, \":\", probabilities[-1])"
   ]
  },
  {
   "cell_type": "code",
   "execution_count": null,
   "metadata": {},
   "outputs": [
    {
     "name": "stdout",
     "output_type": "stream",
     "text": [
      "[0.006 0.004 0.002 0.005 0.006 0.005 0.001 0.006 0.002 0.002 0.007 0.004\n",
      " 0.003 0.006 0.002 0.003 0.004 0.004 0.007 0.003 0.006 0.004 0.008 0.001\n",
      " 0.009 0.002 0.002 0.007 0.01  0.006 0.005 0.858]\n"
     ]
    }
   ],
   "source": [
    "# qpu_result = qpu_task.result()\n",
    "# probabilities = qpu_result.values[0]\n",
    "# print(probabilities)"
   ]
  },
  {
   "cell_type": "code",
   "execution_count": 185,
   "metadata": {},
   "outputs": [
    {
     "data": {
      "image/png": "[encoded data removed]",
      "text/plain": [
       "<Figure size 640x480 with 1 Axes>"
      ]
     },
     "metadata": {},
     "output_type": "display_data"
    }
   ],
   "source": [
    "plot_bitstrings_formatted(probabilities)"
   ]
  },
  {
   "cell_type": "code",
   "execution_count": 186,
   "metadata": {},
   "outputs": [
    {
     "name": "stdout",
     "output_type": "stream",
     "text": [
      "Task Summary\n",
      "{'arn:aws:braket:::device/quantum-simulator/amazon/sv1': {'shots': 1000, 'tasks': {'COMPLETED': 1}, 'execution_duration': datetime.timedelta(microseconds=9000), 'billed_execution_duration': datetime.timedelta(seconds=3)}} \n",
      "\n",
      "Estimated cost to run this example: 0.00 USD\n"
     ]
    }
   ],
   "source": [
    "print(\"Task Summary\")\n",
    "print(f\"{tracker.quantum_tasks_statistics()} \\n\")\n",
    "print(\n",
    "    f\"Estimated cost to run this example: {tracker.qpu_tasks_cost() + tracker.simulator_tasks_cost():.2f} USD\"\n",
    ")"
   ]
  },
  {
   "cell_type": "markdown",
   "metadata": {},
   "source": [
    "Note: Charges shown are estimates based on your Amazon Braket simulator and quantum processing unit (QPU) task usage. Estimated charges shown may differ from your actual charges. Estimated charges do not factor in any discounts or credits, and you may experience additional charges based on your use of other services such as Amazon Elastic Compute Cloud (Amazon EC2).\n"
   ]
  }
 ],
 "metadata": {
  "kernelspec": {
   "display_name": "Python 3 (ipykernel)",
   "language": "python",
   "name": "python3"
  },
  "language_info": {
   "codemirror_mode": {
    "name": "ipython",
    "version": 3
   },
   "file_extension": ".py",
   "mimetype": "text/x-python",
   "name": "python",
   "nbconvert_exporter": "python",
   "pygments_lexer": "ipython3",
   "version": "3.9.7"
  },
  "vscode": {
   "interpreter": {
    "hash": "5904cb9a2089448a2e1aeb5d493d227c9de33e591d7c07e4016fb81e71061a5d"
   }
  }
 },
 "nbformat": 4,
 "nbformat_minor": 4
}
