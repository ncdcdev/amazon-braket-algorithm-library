{
 "cells": [
  {
   "cell_type": "markdown",
   "metadata": {},
   "source": [
    "# Grover's Search Algorithm\n"
   ]
  },
  {
   "cell_type": "markdown",
   "metadata": {},
   "source": [
    "Grover's algorithm is arguably one of the canonical quantum algorithms that kick-started the field of quantum computing. In the future, it could possibly serve as a hallmark application of quantum computing. Grover's algorithm allows us to find a particular register in an unordered database with $N$ entries in just $O(\\sqrt{N})$ steps, compared to the best classical algorithm taking on average $N/2$ steps, thereby providing a **quadratic speedup**. For large databases (with a large number of entries, $N$), a quadratic speedup can provide a significant advantage. For a database with one million entries, a quantum computer running Grover's algorithm would need about 1000 runs, while a classical computer would need, on average, $500,000$ runs.\n",
    "\n",
    "In this notebook, we implement Gover's algorithm based on ion-trap experiments [1]. In particular, we implement the phase oracle (see Figure 1d and 1e of this paper). For a compherensive description of the algorithm see Chapter 6 of [2]. In the ion-trap experiments [1], the oracle encodes bitstrings with length three. Here, we extend the bitstrings to arbitrary length. We use generalized Toffoli gates to construct the oracle. Following reference [3], the generalized Toffoli gates is decomposed into Toffoli gates.\n",
    "\n",
    "---\n",
    "\n",
    "# References <a name=\"ref\"></a>\n",
    "\n",
    "[1] C. Figgatt, D. Maslov, K. A. Landsman, N. M. Linke, S. Debnath & C. Monroe (2017). \"Complete 3-Qubit Grover search on a programmable quantum computer\", Nature Communications, Vol 8, Art 1918, doi:10.1038/s41467-017-01904-7. [arXiv:1703.10535](https://arxiv.org/abs/1703.10535).\n",
    "\n",
    "[2] Nielsen, Michael A., Chuang, Isaac L. (2010). Quantum Computation and Quantum Information (2nd ed.). Cambridge: Cambridge University Press.\n",
    "\n",
    "[3] J. M. Baker, C. Duckering, A. Hoover, F. T. Chong (2019). Decomposing Quantum Generalized Toffoli with an Arbitrary Number of Ancilla. [arXiv:1904.01671](https://arxiv.org/abs/1904.01671).\n"
   ]
  },
  {
   "cell_type": "code",
   "execution_count": 2,
   "metadata": {},
   "outputs": [
    {
     "name": "stdout",
     "output_type": "stream",
     "text": [
      "✓ インポート成功！\n"
     ]
    }
   ],
   "source": [
    "# モジュールを強制的にリロード\n",
    "import sys\n",
    "\n",
    "# 既にロードされているモジュールを削除\n",
    "if \"braket.experimental.algorithms.grovers_search\" in sys.modules:\n",
    "    del sys.modules[\"braket.experimental.algorithms.grovers_search\"]\n",
    "if \"braket.experimental.algorithms.grovers_search.grovers_search\" in sys.modules:\n",
    "    del sys.modules[\"braket.experimental.algorithms.grovers_search.grovers_search\"]\n",
    "\n",
    "from notebook_plotting import plot_bitstrings_formatted\n",
    "import numpy as np\n",
    "\n",
    "%matplotlib inline\n",
    "\n",
    "from braket.aws import AwsDevice\n",
    "from braket.devices import LocalSimulator\n",
    "\n",
    "from braket.experimental.algorithms.grovers_search import (\n",
    "    build_oracle,\n",
    "    grovers_search,\n",
    "    grovers_search_step_by_step,  # 新しい関数をインポート\n",
    ")\n",
    "import math\n",
    "\n",
    "print(\"✓ インポート成功！\")"
   ]
  },
  {
   "cell_type": "code",
   "execution_count": 19,
   "metadata": {},
   "outputs": [
    {
     "name": "stdout",
     "output_type": "stream",
     "text": [
      "number of data qubits:  3\n",
      "number of ancilla qubits:  3\n",
      "T  : │  0  │     1     │  2  │  3  │     4     │  5  │  6  │     7     │  8  │  9  │    10     │ 11  │ 12  │ Result Types  │\n",
      "      ┌───┐                                     ┌───┐ ┌───┐                                     ┌───┐ ┌───┐ ┌─────────────┐ \n",
      "q0 : ─┤ H ├─────────●───────────────────────●───┤ H ├─┤ X ├─────────●───────────────────────●───┤ X ├─┤ H ├─┤ Probability ├─\n",
      "      └───┘         │                       │   └───┘ └───┘         │                       │   └───┘ └───┘ └──────┬──────┘ \n",
      "      ┌───┐ ┌───┐   │                       │   ┌───┐ ┌───┐ ┌───┐   │                       │   ┌───┐ ┌───┐ ┌──────┴──────┐ \n",
      "q1 : ─┤ H ├─┤ X ├───┼─────●───────────●─────┼───┤ X ├─┤ H ├─┤ X ├───┼─────●───────────●─────┼───┤ X ├─┤ H ├─┤ Probability ├─\n",
      "      └───┘ └───┘   │     │           │     │   └───┘ └───┘ └───┘   │     │           │     │   └───┘ └───┘ └──────┬──────┘ \n",
      "      ┌───┐ ┌───┐   │     │           │     │   ┌───┐ ┌───┐ ┌───┐   │     │           │     │   ┌───┐ ┌───┐ ┌──────┴──────┐ \n",
      "q2 : ─┤ H ├─┤ X ├───┼─────●───────────●─────┼───┤ X ├─┤ H ├─┤ X ├───┼─────●───────────●─────┼───┤ X ├─┤ H ├─┤ Probability ├─\n",
      "      └───┘ └───┘   │     │           │     │   └───┘ └───┘ └───┘   │     │           │     │   └───┘ └───┘ └─────────────┘ \n",
      "                  ┌─┴─┐   │           │   ┌─┴─┐                   ┌─┴─┐   │           │   ┌─┴─┐                             \n",
      "q3 : ─────────────┤ X ├───┼─────●─────┼───┤ X ├───────────────────┤ X ├───┼─────●─────┼───┤ X ├─────────────────────────────\n",
      "                  └───┘   │     │     │   └───┘                   └───┘   │     │     │   └───┘                             \n",
      "                        ┌─┴─┐   │   ┌─┴─┐                               ┌─┴─┐   │   ┌─┴─┐                                   \n",
      "q4 : ───────────────────┤ X ├───●───┤ X ├───────────────────────────────┤ X ├───●───┤ X ├───────────────────────────────────\n",
      "                        └───┘   │   └───┘                               └───┘   │   └───┘                                   \n",
      "      ┌───┐ ┌───┐             ┌─┴─┐ ┌───┐       ┌───┐ ┌───┐ ┌───┐             ┌─┴─┐ ┌───┐       ┌───┐                       \n",
      "q5 : ─┤ X ├─┤ H ├─────────────┤ X ├─┤ H ├───────┤ X ├─┤ X ├─┤ H ├─────────────┤ X ├─┤ H ├───────┤ X ├───────────────────────\n",
      "      └───┘ └───┘             └───┘ └───┘       └───┘ └───┘ └───┘             └───┘ └───┘       └───┘                       \n",
      "T  : │  0  │     1     │  2  │  3  │     4     │  5  │  6  │     7     │  8  │  9  │    10     │ 11  │ 12  │ Result Types  │\n"
     ]
    }
   ],
   "source": [
    "solution = \"100\"\n",
    "n_qubits = len(solution)\n",
    "\n",
    "oracle = build_oracle(solution)\n",
    "circuit = grovers_search(oracle, n_qubits=n_qubits, n_reps=1)\n",
    "\n",
    "print(\"number of data qubits: \", n_qubits)\n",
    "print(\"number of ancilla qubits: \", circuit.qubit_count - n_qubits)\n",
    "print(circuit)"
   ]
  },
  {
   "cell_type": "markdown",
   "metadata": {},
   "source": [
    "# Run on a local simulator\n",
    "\n",
    "We demonstrate Grover's algorithm on a classical simulator first. You can choose between a local simulator or an on-demand simulator.\n"
   ]
  },
  {
   "cell_type": "markdown",
   "metadata": {},
   "source": [
    "# Visualize State Vector at Each Time Step\n",
    "\n",
    "Using LocalSimulator, we track the state vector and probability distribution after each gate application in the circuit.\n"
   ]
  },
  {
   "cell_type": "code",
   "execution_count": 20,
   "metadata": {},
   "outputs": [
    {
     "name": "stdout",
     "output_type": "stream",
     "text": [
      "Number of steps obtained: 3\n",
      "  - Step 0: Initial state (after H gates)\n",
      "  - Step 1: After Oracle application\n",
      "  - Step 2: After Amplification\n"
     ]
    }
   ],
   "source": [
    "# Create a small circuit and track each step\n",
    "solution_small = \"11\"\n",
    "n_qubits_small = len(solution_small)\n",
    "\n",
    "oracle_small = build_oracle(solution_small)\n",
    "\n",
    "# Use the new function to get circuits for each step\n",
    "step_circuits = grovers_search_step_by_step(oracle_small, n_qubits=n_qubits_small, n_reps=1)\n",
    "\n",
    "print(f\"Number of steps obtained: {len(step_circuits)}\")\n",
    "print(f\"  - Step 0: Initial state (after H gates)\")\n",
    "print(f\"  - Step 1: After Oracle application\")\n",
    "print(f\"  - Step 2: After Amplification\")\n",
    "\n",
    "\n",
    "# Function to calculate data qubit probabilities only\n",
    "def get_data_qubit_probabilities(state_vector, n_data_qubits, total_qubits):\n",
    "    \"\"\"\n",
    "    Calculate probability distribution of data qubits only from state vector\n",
    "    by tracing out ancilla qubits\n",
    "    \"\"\"\n",
    "    state_array = np.array(state_vector)\n",
    "\n",
    "    # Calculate probability distribution of data qubits (trace out ancilla)\n",
    "    data_probs = np.zeros(2**n_data_qubits)\n",
    "    for i in range(2**total_qubits):\n",
    "        # Extract data qubit index\n",
    "        data_idx = i % (2**n_data_qubits)\n",
    "        data_probs[data_idx] += abs(state_array[i]) ** 2\n",
    "\n",
    "    return data_probs"
   ]
  },
  {
   "cell_type": "code",
   "execution_count": 21,
   "metadata": {},
   "outputs": [
    {
     "name": "stdout",
     "output_type": "stream",
     "text": [
      "Running simulation for each step...\n",
      "  Step 0 completed\n",
      "  Step 1 completed\n",
      "  Step 2 completed\n",
      "\n",
      "Simulation complete! Obtained data for 3 steps.\n",
      "\n",
      "Probability distribution at each step:\n",
      "\n",
      "Step 0:\n",
      "  |00⟩: 0.2500\n",
      "  |01⟩: 0.2500\n",
      "  |10⟩: 0.2500\n",
      "  |11⟩: 0.2500\n",
      "\n",
      "Step 1:\n",
      "  |00⟩: 0.5000\n",
      "  |01⟩: 0.0000\n",
      "  |10⟩: 0.5000\n",
      "  |11⟩: 0.0000\n",
      "\n",
      "Step 2:\n",
      "  |00⟩: 0.0000\n",
      "  |01⟩: 0.0000\n",
      "  |10⟩: 1.0000\n",
      "  |11⟩: 0.0000\n"
     ]
    }
   ],
   "source": [
    "# Run each step circuit and obtain states\n",
    "local_sim = LocalSimulator()\n",
    "\n",
    "states_over_time = []\n",
    "\n",
    "print(\"Running simulation for each step...\")\n",
    "for step_idx, circuit in enumerate(step_circuits):\n",
    "    result = local_sim.run(circuit, shots=0).result()\n",
    "    state_vector = result.values[0]\n",
    "\n",
    "    # Calculate data qubit probabilities\n",
    "    total_qubits = circuit.qubit_count\n",
    "    probs = get_data_qubit_probabilities(state_vector, n_qubits_small, total_qubits)\n",
    "    states_over_time.append((step_idx, probs))\n",
    "\n",
    "    print(f\"  Step {step_idx} completed\")\n",
    "\n",
    "print(f\"\\nSimulation complete! Obtained data for {len(states_over_time)} steps.\")\n",
    "\n",
    "# Display states\n",
    "print(f\"\\nProbability distribution at each step:\")\n",
    "for step, probs in states_over_time:\n",
    "    print(f\"\\nStep {step}:\")\n",
    "    for i, prob in enumerate(probs):\n",
    "        bitstring = format(i, f\"0{n_qubits_small}b\")\n",
    "        print(f\"  |{bitstring}⟩: {prob:.4f}\")"
   ]
  },
  {
   "cell_type": "code",
   "execution_count": 22,
   "metadata": {},
   "outputs": [
    {
     "name": "stdout",
     "output_type": "stream",
     "text": [
      "\n",
      "Visualizing state evolution...\n"
     ]
    },
    {
     "data": {
      "image/png": "[encoded data removed]",
      "text/plain": [
       "<Figure size 1000x800 with 3 Axes>"
      ]
     },
     "metadata": {},
     "output_type": "display_data"
    }
   ],
   "source": [
    "# Visualize state evolution at each step\n",
    "import matplotlib.pyplot as plt\n",
    "\n",
    "\n",
    "def plot_state_evolution(states_over_time, solution_state):\n",
    "    \"\"\"\n",
    "    Visualize state evolution as a heatmap\n",
    "\n",
    "    Args:\n",
    "        states_over_time: List of (time, probability distribution) tuples\n",
    "        solution_state: Solution state (bit string)\n",
    "    \"\"\"\n",
    "    if not states_over_time:\n",
    "        print(\"No data to display\")\n",
    "        return\n",
    "\n",
    "    n_steps = len(states_over_time)\n",
    "    n_states = len(states_over_time[0][1])\n",
    "    n_qubits = int(np.log2(n_states))\n",
    "\n",
    "    # Convert data to matrix\n",
    "    prob_matrix = np.array([probs for _, probs in states_over_time]).T\n",
    "\n",
    "    # Plot\n",
    "    fig, (ax1, ax2) = plt.subplots(2, 1, figsize=(10, 8))\n",
    "\n",
    "    # Heatmap\n",
    "    im = ax1.imshow(prob_matrix, aspect=\"auto\", cmap=\"hot\", interpolation=\"nearest\")\n",
    "    ax1.set_xlabel(\"Grover Algorithm Steps\", fontsize=11)\n",
    "    ax1.set_ylabel(\"Quantum State\", fontsize=11)\n",
    "    ax1.set_title(\"Probability Distribution of Quantum States at Each Step\", fontsize=12)\n",
    "\n",
    "    # x-axis labels\n",
    "    step_labels = [\"Initial\\n(H gates)\", \"After\\nOracle\", \"After\\nAmplification\"]\n",
    "    ax1.set_xticks(range(n_steps))\n",
    "    ax1.set_xticklabels(step_labels[:n_steps], fontsize=9)\n",
    "\n",
    "    # y-axis labels as bit strings\n",
    "    bitstrings = [format(i, f\"0{n_qubits}b\") for i in range(n_states)]\n",
    "    ax1.set_yticks(range(n_states))\n",
    "    ax1.set_yticklabels(bitstrings, fontsize=9)\n",
    "\n",
    "    # Highlight solution state\n",
    "    solution_idx = int(solution_state, 2)\n",
    "    ax1.axhline(\n",
    "        y=solution_idx,\n",
    "        color=\"cyan\",\n",
    "        linestyle=\"--\",\n",
    "        linewidth=2,\n",
    "        label=f\"Solution: |{solution_state}⟩\",\n",
    "    )\n",
    "    ax1.legend(loc=\"upper right\", fontsize=10)\n",
    "\n",
    "    plt.colorbar(im, ax=ax1, label=\"Probability\")\n",
    "\n",
    "    # Time evolution of solution state probability\n",
    "    solution_probs = [probs[solution_idx] for _, probs in states_over_time]\n",
    "    ax2.plot(range(n_steps), solution_probs, \"o-\", linewidth=2, markersize=8, color=\"red\")\n",
    "    ax2.set_xlabel(\"Grover Algorithm Steps\", fontsize=11)\n",
    "    ax2.set_ylabel(f\"Probability P(|{solution_state}⟩)\", fontsize=11)\n",
    "    ax2.set_title(f\"Time Evolution of Solution State |{solution_state}⟩ Probability\", fontsize=12)\n",
    "    ax2.set_xticks(range(n_steps))\n",
    "    ax2.set_xticklabels(step_labels[:n_steps], fontsize=9)\n",
    "    ax2.grid(True, alpha=0.3)\n",
    "    ax2.set_ylim([0, 1.0])\n",
    "\n",
    "    plt.tight_layout()\n",
    "    plt.show()\n",
    "\n",
    "\n",
    "# Execute visualization\n",
    "print(\"\\nVisualizing state evolution...\")\n",
    "plot_state_evolution(states_over_time, solution_small)"
   ]
  },
  {
   "cell_type": "markdown",
   "metadata": {},
   "source": [
    "## Interpretation of Results\n",
    "\n",
    "The graphs above show:\n",
    "\n",
    "1. **Heatmap (top)**: Probability distribution of all quantum states at each step\n",
    "\n",
    "   - X-axis: Time (Grover algorithm steps)\n",
    "   - Y-axis: Quantum states (bit strings)\n",
    "   - Color: Probability magnitude (redder = higher probability)\n",
    "   - Cyan dashed line: Solution state\n",
    "\n",
    "2. **Time series plot (bottom)**: Time evolution of solution state probability\n",
    "   - As Grover's algorithm progresses, the probability of the solution state increases\n",
    "   - Initial state: All states have equal probability (1/2^n)\n",
    "   - Oracle + Diffusion (Amplification) operations amplify the solution state probability\n"
   ]
  },
  {
   "cell_type": "markdown",
   "metadata": {},
   "source": [
    "# 各時刻 T での状態を追跡\n",
    "\n",
    "# 回路を段階的に構築して実行\n",
    "\n",
    "def simulate_circuit_step_by_step(circuit, n_data_qubits, max_steps=None):\n",
    "\"\"\"\n",
    "回路を段階的に実行して各時刻（深さ）での状態を取得\n",
    "\n",
    "    Args:\n",
    "        circuit: 実行する回路\n",
    "        n_data_qubits: データqubitの数\n",
    "        max_steps: 追跡する最大ステップ数（Noneの場合は全て）\n",
    "\n",
    "    Returns:\n",
    "        各時刻での確率分布のリスト\n",
    "    \"\"\"\n",
    "    local_sim = LocalSimulator()\n",
    "    total_qubits = circuit.qubit_count\n",
    "    max_depth = circuit.depth if max_steps is None else min(circuit.depth, max_steps)\n",
    "\n",
    "    states_over_time = []\n",
    "\n",
    "    # 各深さ（時刻T）での状態を取得\n",
    "    for target_depth in range(max_depth + 1):\n",
    "        # 現在の深さまでの部分回路を作成\n",
    "        partial_circuit = Circuit()\n",
    "\n",
    "        # 各instructionの深さを計算しながら追加\n",
    "        current_depth = 0\n",
    "        for instruction in circuit.instructions:\n",
    "            # このinstructionを追加した時の深さを計算\n",
    "            # 簡易的な実装：各命令が深さ1を追加すると仮定\n",
    "            if current_depth > target_depth:\n",
    "                break\n",
    "\n",
    "            partial_circuit.add_instruction(instruction)\n",
    "            current_depth += 1\n",
    "\n",
    "        # StateVectorを追加して実行\n",
    "        partial_circuit.state_vector()\n",
    "\n",
    "        try:\n",
    "            result = local_sim.run(partial_circuit, shots=0).result()\n",
    "            state_vector = result.values[0]\n",
    "\n",
    "            # データqubitの確率を計算\n",
    "            probs = get_data_qubit_probabilities(state_vector, n_data_qubits, total_qubits)\n",
    "            states_over_time.append((target_depth, probs))\n",
    "\n",
    "            if target_depth % 5 == 0:  # 進捗表示\n",
    "                print(f\"  深さ {target_depth}/{max_depth} 完了\")\n",
    "        except Exception as e:\n",
    "            print(f\"Error at depth {target_depth}: {e}\")\n",
    "            break\n",
    "\n",
    "    return states_over_time\n",
    "\n",
    "# 小さい回路で試す（計算量が少ない）\n",
    "\n",
    "print(\"各時刻 T での状態遷移を計算中...\")\n",
    "states = simulate_circuit_step_by_step(circuit_with_states, n_qubits_small, max_steps=20)\n",
    "\n",
    "print(f\"\\n 最初の{min(len(states), 5)}ステップの状態:\")\n",
    "for t, probs in states[:5]: # 最初の 5 ステップを表示\n",
    "print(f\"\\nT={t}:\")\n",
    "for i, prob in enumerate(probs):\n",
    "bitstring = format(i, f'0{n_qubits_small}b')\n",
    "if prob > 0.01: # 確率が 1%以上のものだけ表示\n",
    "print(f\" |{bitstring}⟩: {prob:.4f}\")\n",
    "\n",
    "print(f\"\\n 計算完了！全{len(states)}ステップのデータを取得しました。\")\n"
   ]
  },
  {
   "cell_type": "code",
   "execution_count": 276,
   "metadata": {},
   "outputs": [],
   "source": [
    "# task = local_simulator.run(circuit, shots=1000)\n",
    "# print(task)"
   ]
  },
  {
   "cell_type": "code",
   "execution_count": 277,
   "metadata": {},
   "outputs": [],
   "source": [
    "# plot_bitstrings_formatted(probabilities)"
   ]
  },
  {
   "cell_type": "markdown",
   "metadata": {},
   "source": [
    "# Run on a QPU or an on-demand simulator\n",
    "\n",
    "Now we run on IonQ. Toffoli gate (CCNot) is not a supported gate of IonQ device. We use the `decompose_ccnot=True` to decompose the Toffoli gate into CNot, Ti, T and H gates.\n"
   ]
  },
  {
   "cell_type": "code",
   "execution_count": 17,
   "metadata": {},
   "outputs": [],
   "source": [
    "# device = AwsDevice(\"arn:aws:braket:eu-north-1::device/qpu/iqm/Garnet\")  # IQM - Garnet\n",
    "# device = AwsDevice(\"arn:aws:braket:us-east-1::device/qpu/quera/Aquila\")  # QuEra - Aquila\n",
    "# device = AwsDevice(\"arn:aws:braket:us-west-1::device/qpu/rigetti/Ankaa-3\")  # Rigetti - Ankaa-3\n",
    "device = AwsDevice(\"arn:aws:braket:us-east-1::device/qpu/ionq/Forte-1\")  # IonQ - Forte-1\n",
    "# device = AwsDevice(\"arn:aws:braket:::device/quantum-simulator/amazon/sv1\")  # on-demand simulator"
   ]
  },
  {
   "cell_type": "code",
   "execution_count": 18,
   "metadata": {},
   "outputs": [
    {
     "name": "stdout",
     "output_type": "stream",
     "text": [
      "状態: OFFLINE\n",
      "キュー: {<QueueType.NORMAL: 'Normal'>: '89', <QueueType.PRIORITY: 'Priority'>: '0'}件待ち\n"
     ]
    }
   ],
   "source": [
    "from braket.tracking import Tracker\n",
    "\n",
    "tracker = Tracker().start()\n",
    "\n",
    "print(f\"状態: {device.status}\")  # ONLINEか確認\n",
    "print(f\"キュー: {device.queue_depth().quantum_tasks}件待ち\")"
   ]
  },
  {
   "cell_type": "code",
   "execution_count": 19,
   "metadata": {},
   "outputs": [
    {
     "ename": "DeviceOfflineException",
     "evalue": "An error occurred (DeviceOfflineException) when calling the CreateQuantumTask operation: Device is not available. Status = OFFLINE",
     "output_type": "error",
     "traceback": [
      "\u001b[31m---------------------------------------------------------------------------\u001b[39m",
      "\u001b[31mDeviceOfflineException\u001b[39m                    Traceback (most recent call last)",
      "\u001b[36mCell\u001b[39m\u001b[36m \u001b[39m\u001b[32mIn[19]\u001b[39m\u001b[32m, line 25\u001b[39m\n\u001b[32m     14\u001b[39m \u001b[38;5;66;03m# r = 10\u001b[39;00m\n\u001b[32m     15\u001b[39m \n\u001b[32m     16\u001b[39m \u001b[38;5;66;03m# for i in range(1, r + 2 + 1):\u001b[39;00m\n\u001b[32m   (...)\u001b[39m\u001b[32m     21\u001b[39m \u001b[38;5;66;03m#     probabilities = qpu_result.values[0]\u001b[39;00m\n\u001b[32m     22\u001b[39m \u001b[38;5;66;03m#     print(i, \":\", probabilities[-1])\u001b[39;00m\n\u001b[32m     24\u001b[39m circuit_qpu = grovers_search(oracle, n_qubits=n_qubits, n_reps=r, decompose_ccnot=\u001b[38;5;28;01mTrue\u001b[39;00m)\n\u001b[32m---> \u001b[39m\u001b[32m25\u001b[39m qpu_task = \u001b[43mdevice\u001b[49m\u001b[43m.\u001b[49m\u001b[43mrun\u001b[49m\u001b[43m(\u001b[49m\u001b[43mcircuit_qpu\u001b[49m\u001b[43m,\u001b[49m\u001b[43m \u001b[49m\u001b[43mshots\u001b[49m\u001b[43m=\u001b[49m\u001b[32;43m1000\u001b[39;49m\u001b[43m)\u001b[49m\n\u001b[32m     26\u001b[39m qpu_result = qpu_task.result()\n\u001b[32m     27\u001b[39m probabilities = qpu_result.values[\u001b[32m0\u001b[39m]\n",
      "\u001b[36mFile \u001b[39m\u001b[32m~/github/amazon-braket-algorithm-library/.venv/lib/python3.12/site-packages/braket/aws/aws_device.py:205\u001b[39m, in \u001b[36mAwsDevice.run\u001b[39m\u001b[34m(self, task_specification, s3_destination_folder, shots, poll_timeout_seconds, poll_interval_seconds, inputs, gate_definitions, reservation_arn, *aws_quantum_task_args, **aws_quantum_task_kwargs)\u001b[39m\n\u001b[32m    203\u001b[39m \u001b[38;5;28;01mif\u001b[39;00m \u001b[38;5;28mself\u001b[39m._noise_model:\n\u001b[32m    204\u001b[39m     task_specification = \u001b[38;5;28mself\u001b[39m._apply_noise_model_to_circuit(task_specification)\n\u001b[32m--> \u001b[39m\u001b[32m205\u001b[39m \u001b[38;5;28;01mreturn\u001b[39;00m \u001b[43mAwsQuantumTask\u001b[49m\u001b[43m.\u001b[49m\u001b[43mcreate\u001b[49m\u001b[43m(\u001b[49m\n\u001b[32m    206\u001b[39m \u001b[43m    \u001b[49m\u001b[38;5;28;43mself\u001b[39;49m\u001b[43m.\u001b[49m\u001b[43m_aws_session\u001b[49m\u001b[43m,\u001b[49m\n\u001b[32m    207\u001b[39m \u001b[43m    \u001b[49m\u001b[38;5;28;43mself\u001b[39;49m\u001b[43m.\u001b[49m\u001b[43m_arn\u001b[49m\u001b[43m,\u001b[49m\n\u001b[32m    208\u001b[39m \u001b[43m    \u001b[49m\u001b[43mtask_specification\u001b[49m\u001b[43m,\u001b[49m\n\u001b[32m    209\u001b[39m \u001b[43m    \u001b[49m\u001b[43ms3_destination_folder\u001b[49m\n\u001b[32m    210\u001b[39m \u001b[43m    \u001b[49m\u001b[38;5;129;43;01mor\u001b[39;49;00m\u001b[43m \u001b[49m\u001b[43m(\u001b[49m\n\u001b[32m    211\u001b[39m \u001b[43m        \u001b[49m\u001b[43mAwsSession\u001b[49m\u001b[43m.\u001b[49m\u001b[43mparse_s3_uri\u001b[49m\u001b[43m(\u001b[49m\u001b[43mos\u001b[49m\u001b[43m.\u001b[49m\u001b[43menviron\u001b[49m\u001b[43m.\u001b[49m\u001b[43mget\u001b[49m\u001b[43m(\u001b[49m\u001b[33;43m\"\u001b[39;49m\u001b[33;43mAMZN_BRAKET_TASK_RESULTS_S3_URI\u001b[39;49m\u001b[33;43m\"\u001b[39;49m\u001b[43m)\u001b[49m\u001b[43m)\u001b[49m\n\u001b[32m    212\u001b[39m \u001b[43m        \u001b[49m\u001b[38;5;28;43;01mif\u001b[39;49;00m\u001b[43m \u001b[49m\u001b[33;43m\"\u001b[39;49m\u001b[33;43mAMZN_BRAKET_TASK_RESULTS_S3_URI\u001b[39;49m\u001b[33;43m\"\u001b[39;49m\u001b[43m \u001b[49m\u001b[38;5;129;43;01min\u001b[39;49;00m\u001b[43m \u001b[49m\u001b[43mos\u001b[49m\u001b[43m.\u001b[49m\u001b[43menviron\u001b[49m\n\u001b[32m    213\u001b[39m \u001b[43m        \u001b[49m\u001b[38;5;28;43;01melse\u001b[39;49;00m\u001b[43m \u001b[49m\u001b[38;5;28;43;01mNone\u001b[39;49;00m\n\u001b[32m    214\u001b[39m \u001b[43m    \u001b[49m\u001b[43m)\u001b[49m\n\u001b[32m    215\u001b[39m \u001b[43m    \u001b[49m\u001b[38;5;129;43;01mor\u001b[39;49;00m\u001b[43m \u001b[49m\u001b[43m(\u001b[49m\u001b[38;5;28;43mself\u001b[39;49m\u001b[43m.\u001b[49m\u001b[43m_aws_session\u001b[49m\u001b[43m.\u001b[49m\u001b[43mdefault_bucket\u001b[49m\u001b[43m(\u001b[49m\u001b[43m)\u001b[49m\u001b[43m,\u001b[49m\u001b[43m \u001b[49m\u001b[33;43m\"\u001b[39;49m\u001b[33;43mtasks\u001b[39;49m\u001b[33;43m\"\u001b[39;49m\u001b[43m)\u001b[49m\u001b[43m,\u001b[49m\n\u001b[32m    216\u001b[39m \u001b[43m    \u001b[49m\u001b[43mshots\u001b[49m\u001b[43m \u001b[49m\u001b[38;5;28;43;01mif\u001b[39;49;00m\u001b[43m \u001b[49m\u001b[43mshots\u001b[49m\u001b[43m \u001b[49m\u001b[38;5;129;43;01mis\u001b[39;49;00m\u001b[43m \u001b[49m\u001b[38;5;129;43;01mnot\u001b[39;49;00m\u001b[43m \u001b[49m\u001b[38;5;28;43;01mNone\u001b[39;49;00m\u001b[43m \u001b[49m\u001b[38;5;28;43;01melse\u001b[39;49;00m\u001b[43m \u001b[49m\u001b[38;5;28;43mself\u001b[39;49m\u001b[43m.\u001b[49m\u001b[43m_default_shots\u001b[49m\u001b[43m(\u001b[49m\u001b[43mtask_specification\u001b[49m\u001b[43m)\u001b[49m\u001b[43m,\u001b[49m\n\u001b[32m    217\u001b[39m \u001b[43m    \u001b[49m\u001b[43mpoll_timeout_seconds\u001b[49m\u001b[43m=\u001b[49m\u001b[43mpoll_timeout_seconds\u001b[49m\u001b[43m,\u001b[49m\n\u001b[32m    218\u001b[39m \u001b[43m    \u001b[49m\u001b[43mpoll_interval_seconds\u001b[49m\u001b[43m=\u001b[49m\u001b[43mpoll_interval_seconds\u001b[49m\u001b[43m \u001b[49m\u001b[38;5;129;43;01mor\u001b[39;49;00m\u001b[43m \u001b[49m\u001b[38;5;28;43mself\u001b[39;49m\u001b[43m.\u001b[49m\u001b[43m_poll_interval_seconds\u001b[49m\u001b[43m,\u001b[49m\n\u001b[32m    219\u001b[39m \u001b[43m    \u001b[49m\u001b[43minputs\u001b[49m\u001b[43m=\u001b[49m\u001b[43minputs\u001b[49m\u001b[43m,\u001b[49m\n\u001b[32m    220\u001b[39m \u001b[43m    \u001b[49m\u001b[43mgate_definitions\u001b[49m\u001b[43m=\u001b[49m\u001b[43mgate_definitions\u001b[49m\u001b[43m,\u001b[49m\n\u001b[32m    221\u001b[39m \u001b[43m    \u001b[49m\u001b[43mreservation_arn\u001b[49m\u001b[43m=\u001b[49m\u001b[43mreservation_arn\u001b[49m\u001b[43m,\u001b[49m\n\u001b[32m    222\u001b[39m \u001b[43m    \u001b[49m\u001b[43m*\u001b[49m\u001b[43maws_quantum_task_args\u001b[49m\u001b[43m,\u001b[49m\n\u001b[32m    223\u001b[39m \u001b[43m    \u001b[49m\u001b[43m*\u001b[49m\u001b[43m*\u001b[49m\u001b[43maws_quantum_task_kwargs\u001b[49m\u001b[43m,\u001b[49m\n\u001b[32m    224\u001b[39m \u001b[43m\u001b[49m\u001b[43m)\u001b[49m\n",
      "\u001b[36mFile \u001b[39m\u001b[32m~/github/amazon-braket-algorithm-library/.venv/lib/python3.12/site-packages/braket/aws/aws_quantum_task.py:209\u001b[39m, in \u001b[36mAwsQuantumTask.create\u001b[39m\u001b[34m(aws_session, device_arn, task_specification, s3_destination_folder, shots, device_parameters, disable_qubit_rewiring, tags, inputs, gate_definitions, quiet, reservation_arn, *args, **kwargs)\u001b[39m\n\u001b[32m    204\u001b[39m     \u001b[38;5;28;01mif\u001b[39;00m unbounded_parameters := param_names - \u001b[38;5;28mset\u001b[39m(inputs.keys()):\n\u001b[32m    205\u001b[39m         \u001b[38;5;28;01mraise\u001b[39;00m \u001b[38;5;167;01mValueError\u001b[39;00m(\n\u001b[32m    206\u001b[39m             \u001b[33mf\u001b[39m\u001b[33m\"\u001b[39m\u001b[33mCannot execute circuit with unbound parameters: \u001b[39m\u001b[38;5;132;01m{\u001b[39;00munbounded_parameters\u001b[38;5;132;01m}\u001b[39;00m\u001b[33m\"\u001b[39m\n\u001b[32m    207\u001b[39m         )\n\u001b[32m--> \u001b[39m\u001b[32m209\u001b[39m \u001b[38;5;28;01mreturn\u001b[39;00m \u001b[43m_create_internal\u001b[49m\u001b[43m(\u001b[49m\n\u001b[32m    210\u001b[39m \u001b[43m    \u001b[49m\u001b[43mtask_specification\u001b[49m\u001b[43m,\u001b[49m\n\u001b[32m    211\u001b[39m \u001b[43m    \u001b[49m\u001b[43maws_session\u001b[49m\u001b[43m,\u001b[49m\n\u001b[32m    212\u001b[39m \u001b[43m    \u001b[49m\u001b[43mcreate_task_kwargs\u001b[49m\u001b[43m,\u001b[49m\n\u001b[32m    213\u001b[39m \u001b[43m    \u001b[49m\u001b[43mdevice_arn\u001b[49m\u001b[43m,\u001b[49m\n\u001b[32m    214\u001b[39m \u001b[43m    \u001b[49m\u001b[43mdevice_parameters\u001b[49m\u001b[43m \u001b[49m\u001b[38;5;129;43;01mor\u001b[39;49;00m\u001b[43m \u001b[49m\u001b[43m{\u001b[49m\u001b[43m}\u001b[49m\u001b[43m,\u001b[49m\n\u001b[32m    215\u001b[39m \u001b[43m    \u001b[49m\u001b[43mdisable_qubit_rewiring\u001b[49m\u001b[43m,\u001b[49m\n\u001b[32m    216\u001b[39m \u001b[43m    \u001b[49m\u001b[43minputs\u001b[49m\u001b[43m,\u001b[49m\n\u001b[32m    217\u001b[39m \u001b[43m    \u001b[49m\u001b[43mgate_definitions\u001b[49m\u001b[43m,\u001b[49m\n\u001b[32m    218\u001b[39m \u001b[43m    \u001b[49m\u001b[43mquiet\u001b[49m\u001b[43m=\u001b[49m\u001b[43mquiet\u001b[49m\u001b[43m,\u001b[49m\n\u001b[32m    219\u001b[39m \u001b[43m    \u001b[49m\u001b[43m*\u001b[49m\u001b[43margs\u001b[49m\u001b[43m,\u001b[49m\n\u001b[32m    220\u001b[39m \u001b[43m    \u001b[49m\u001b[43m*\u001b[49m\u001b[43m*\u001b[49m\u001b[43mkwargs\u001b[49m\u001b[43m,\u001b[49m\n\u001b[32m    221\u001b[39m \u001b[43m\u001b[49m\u001b[43m)\u001b[49m\n",
      "\u001b[36mFile \u001b[39m\u001b[32m~/.local/share/uv/python/cpython-3.12.6-macos-aarch64-none/lib/python3.12/functools.py:907\u001b[39m, in \u001b[36msingledispatch.<locals>.wrapper\u001b[39m\u001b[34m(*args, **kw)\u001b[39m\n\u001b[32m    903\u001b[39m \u001b[38;5;28;01mif\u001b[39;00m \u001b[38;5;129;01mnot\u001b[39;00m args:\n\u001b[32m    904\u001b[39m     \u001b[38;5;28;01mraise\u001b[39;00m \u001b[38;5;167;01mTypeError\u001b[39;00m(\u001b[33mf\u001b[39m\u001b[33m'\u001b[39m\u001b[38;5;132;01m{\u001b[39;00mfuncname\u001b[38;5;132;01m}\u001b[39;00m\u001b[33m requires at least \u001b[39m\u001b[33m'\u001b[39m\n\u001b[32m    905\u001b[39m                     \u001b[33m'\u001b[39m\u001b[33m1 positional argument\u001b[39m\u001b[33m'\u001b[39m)\n\u001b[32m--> \u001b[39m\u001b[32m907\u001b[39m \u001b[38;5;28;01mreturn\u001b[39;00m \u001b[43mdispatch\u001b[49m\u001b[43m(\u001b[49m\u001b[43margs\u001b[49m\u001b[43m[\u001b[49m\u001b[32;43m0\u001b[39;49m\u001b[43m]\u001b[49m\u001b[43m.\u001b[49m\u001b[34;43m__class__\u001b[39;49m\u001b[43m)\u001b[49m\u001b[43m(\u001b[49m\u001b[43m*\u001b[49m\u001b[43margs\u001b[49m\u001b[43m,\u001b[49m\u001b[43m \u001b[49m\u001b[43m*\u001b[49m\u001b[43m*\u001b[49m\u001b[43mkw\u001b[49m\u001b[43m)\u001b[49m\n",
      "\u001b[36mFile \u001b[39m\u001b[32m~/github/amazon-braket-algorithm-library/.venv/lib/python3.12/site-packages/braket/aws/aws_quantum_task.py:773\u001b[39m, in \u001b[36m_\u001b[39m\u001b[34m(circuit, aws_session, create_task_kwargs, device_arn, device_parameters, disable_qubit_rewiring, inputs, gate_definitions, *args, **kwargs)\u001b[39m\n\u001b[32m    764\u001b[39m     openqasm_program = OpenQASMProgram(\n\u001b[32m    765\u001b[39m         source=openqasm_program.source,\n\u001b[32m    766\u001b[39m         inputs=inputs_copy,\n\u001b[32m    767\u001b[39m     )\n\u001b[32m    769\u001b[39m create_task_kwargs |= {\n\u001b[32m    770\u001b[39m     \u001b[33m\"\u001b[39m\u001b[33maction\u001b[39m\u001b[33m\"\u001b[39m: openqasm_program.json(),\n\u001b[32m    771\u001b[39m     \u001b[33m\"\u001b[39m\u001b[33mdeviceParameters\u001b[39m\u001b[33m\"\u001b[39m: final_device_parameters.json(exclude_none=\u001b[38;5;28;01mTrue\u001b[39;00m),\n\u001b[32m    772\u001b[39m }\n\u001b[32m--> \u001b[39m\u001b[32m773\u001b[39m task_arn = \u001b[43maws_session\u001b[49m\u001b[43m.\u001b[49m\u001b[43mcreate_quantum_task\u001b[49m\u001b[43m(\u001b[49m\u001b[43m*\u001b[49m\u001b[43m*\u001b[49m\u001b[43mcreate_task_kwargs\u001b[49m\u001b[43m)\u001b[49m\n\u001b[32m    774\u001b[39m \u001b[38;5;28;01mreturn\u001b[39;00m AwsQuantumTask(task_arn, aws_session, *args, **kwargs)\n",
      "\u001b[36mFile \u001b[39m\u001b[32m~/github/amazon-braket-algorithm-library/.venv/lib/python3.12/site-packages/braket/aws/aws_session.py:273\u001b[39m, in \u001b[36mAwsSession.create_quantum_task\u001b[39m\u001b[34m(self, **boto3_kwargs)\u001b[39m\n\u001b[32m    271\u001b[39m \u001b[38;5;28;01mif\u001b[39;00m job_token:\n\u001b[32m    272\u001b[39m     boto3_kwargs[\u001b[33m\"\u001b[39m\u001b[33mjobToken\u001b[39m\u001b[33m\"\u001b[39m] = job_token\n\u001b[32m--> \u001b[39m\u001b[32m273\u001b[39m response = \u001b[38;5;28;43mself\u001b[39;49m\u001b[43m.\u001b[49m\u001b[43mbraket_client\u001b[49m\u001b[43m.\u001b[49m\u001b[43mcreate_quantum_task\u001b[49m\u001b[43m(\u001b[49m\u001b[43m*\u001b[49m\u001b[43m*\u001b[49m\u001b[43mboto3_kwargs\u001b[49m\u001b[43m)\u001b[49m\n\u001b[32m    274\u001b[39m broadcast_event(\n\u001b[32m    275\u001b[39m     _TaskCreationEvent(\n\u001b[32m    276\u001b[39m         arn=response[\u001b[33m\"\u001b[39m\u001b[33mquantumTaskArn\u001b[39m\u001b[33m\"\u001b[39m],\n\u001b[32m   (...)\u001b[39m\u001b[32m    280\u001b[39m     )\n\u001b[32m    281\u001b[39m )\n\u001b[32m    282\u001b[39m \u001b[38;5;28;01mreturn\u001b[39;00m response[\u001b[33m\"\u001b[39m\u001b[33mquantumTaskArn\u001b[39m\u001b[33m\"\u001b[39m]\n",
      "\u001b[36mFile \u001b[39m\u001b[32m~/github/amazon-braket-algorithm-library/.venv/lib/python3.12/site-packages/botocore/client.py:602\u001b[39m, in \u001b[36mClientCreator._create_api_method.<locals>._api_call\u001b[39m\u001b[34m(self, *args, **kwargs)\u001b[39m\n\u001b[32m    598\u001b[39m     \u001b[38;5;28;01mraise\u001b[39;00m \u001b[38;5;167;01mTypeError\u001b[39;00m(\n\u001b[32m    599\u001b[39m         \u001b[33mf\u001b[39m\u001b[33m\"\u001b[39m\u001b[38;5;132;01m{\u001b[39;00mpy_operation_name\u001b[38;5;132;01m}\u001b[39;00m\u001b[33m() only accepts keyword arguments.\u001b[39m\u001b[33m\"\u001b[39m\n\u001b[32m    600\u001b[39m     )\n\u001b[32m    601\u001b[39m \u001b[38;5;66;03m# The \"self\" in this scope is referring to the BaseClient.\u001b[39;00m\n\u001b[32m--> \u001b[39m\u001b[32m602\u001b[39m \u001b[38;5;28;01mreturn\u001b[39;00m \u001b[38;5;28;43mself\u001b[39;49m\u001b[43m.\u001b[49m\u001b[43m_make_api_call\u001b[49m\u001b[43m(\u001b[49m\u001b[43moperation_name\u001b[49m\u001b[43m,\u001b[49m\u001b[43m \u001b[49m\u001b[43mkwargs\u001b[49m\u001b[43m)\u001b[49m\n",
      "\u001b[36mFile \u001b[39m\u001b[32m~/github/amazon-braket-algorithm-library/.venv/lib/python3.12/site-packages/botocore/context.py:123\u001b[39m, in \u001b[36mwith_current_context.<locals>.decorator.<locals>.wrapper\u001b[39m\u001b[34m(*args, **kwargs)\u001b[39m\n\u001b[32m    121\u001b[39m \u001b[38;5;28;01mif\u001b[39;00m hook:\n\u001b[32m    122\u001b[39m     hook()\n\u001b[32m--> \u001b[39m\u001b[32m123\u001b[39m \u001b[38;5;28;01mreturn\u001b[39;00m \u001b[43mfunc\u001b[49m\u001b[43m(\u001b[49m\u001b[43m*\u001b[49m\u001b[43margs\u001b[49m\u001b[43m,\u001b[49m\u001b[43m \u001b[49m\u001b[43m*\u001b[49m\u001b[43m*\u001b[49m\u001b[43mkwargs\u001b[49m\u001b[43m)\u001b[49m\n",
      "\u001b[36mFile \u001b[39m\u001b[32m~/github/amazon-braket-algorithm-library/.venv/lib/python3.12/site-packages/botocore/client.py:1078\u001b[39m, in \u001b[36mBaseClient._make_api_call\u001b[39m\u001b[34m(self, operation_name, api_params)\u001b[39m\n\u001b[32m   1074\u001b[39m     error_code = request_context.get(\n\u001b[32m   1075\u001b[39m         \u001b[33m'\u001b[39m\u001b[33merror_code_override\u001b[39m\u001b[33m'\u001b[39m\n\u001b[32m   1076\u001b[39m     ) \u001b[38;5;129;01mor\u001b[39;00m error_info.get(\u001b[33m\"\u001b[39m\u001b[33mCode\u001b[39m\u001b[33m\"\u001b[39m)\n\u001b[32m   1077\u001b[39m     error_class = \u001b[38;5;28mself\u001b[39m.exceptions.from_code(error_code)\n\u001b[32m-> \u001b[39m\u001b[32m1078\u001b[39m     \u001b[38;5;28;01mraise\u001b[39;00m error_class(parsed_response, operation_name)\n\u001b[32m   1079\u001b[39m \u001b[38;5;28;01melse\u001b[39;00m:\n\u001b[32m   1080\u001b[39m     \u001b[38;5;28;01mreturn\u001b[39;00m parsed_response\n",
      "\u001b[31mDeviceOfflineException\u001b[39m: An error occurred (DeviceOfflineException) when calling the CreateQuantumTask operation: Device is not available. Status = OFFLINE"
     ]
    }
   ],
   "source": [
    "solution = \"111\"\n",
    "# solution = \"11111\"\n",
    "n_qubits = len(solution)\n",
    "\n",
    "# oracle = build_oracle(solution)\n",
    "# circuit = grovers_search(oracle, n_qubits=n_qubits, n_reps=5)\n",
    "oracle = build_oracle(solution, decompose_ccnot=True)\n",
    "# print(\"number of data qubits: \", n_qubits)\n",
    "# print(\"number of ancilla qubits: \", circuit.qubit_count - n_qubits)\n",
    "# print(circuit)\n",
    "\n",
    "# 最適な反復回数\n",
    "r = round(math.pi / 4 * math.sqrt(2**n_qubits))\n",
    "# r = 10\n",
    "\n",
    "# for i in range(1, r + 2 + 1):\n",
    "#     # oracle = build_oracle(solution, decompose_ccnot=True)\n",
    "#     circuit_qpu = grovers_search(oracle, n_qubits=n_qubits, n_reps=i, decompose_ccnot=True)\n",
    "#     qpu_task = device.run(circuit_qpu, shots=1000)\n",
    "#     qpu_result = qpu_task.result()\n",
    "#     probabilities = qpu_result.values[0]\n",
    "#     print(i, \":\", probabilities[-1])\n",
    "\n",
    "circuit_qpu = grovers_search(oracle, n_qubits=n_qubits, n_reps=r, decompose_ccnot=True)\n",
    "qpu_task = device.run(circuit_qpu, shots=1000)\n",
    "qpu_result = qpu_task.result()\n",
    "probabilities = qpu_result.values[0]\n",
    "print(r, \":\", probabilities)"
   ]
  },
  {
   "cell_type": "code",
   "execution_count": 300,
   "metadata": {},
   "outputs": [],
   "source": [
    "# qpu_result = qpu_task.result()\n",
    "# probabilities = qpu_result.values[0]\n",
    "# print(probabilities)"
   ]
  },
  {
   "cell_type": "code",
   "execution_count": 301,
   "metadata": {},
   "outputs": [
    {
     "data": {
      "image/png": "[encoded data removed]",
      "text/plain": [
       "<Figure size 640x480 with 1 Axes>"
      ]
     },
     "metadata": {},
     "output_type": "display_data"
    }
   ],
   "source": [
    "plot_bitstrings_formatted(probabilities)"
   ]
  },
  {
   "cell_type": "code",
   "execution_count": 284,
   "metadata": {},
   "outputs": [
    {
     "name": "stdout",
     "output_type": "stream",
     "text": [
      "Task Summary\n",
      "{'arn:aws:braket:::device/quantum-simulator/amazon/sv1': {'shots': 5000, 'tasks': {'COMPLETED': 5}, 'execution_duration': datetime.timedelta(microseconds=73000), 'billed_execution_duration': datetime.timedelta(seconds=15)}} \n",
      "\n",
      "Estimated cost to run this example: 0.02 USD\n"
     ]
    }
   ],
   "source": [
    "print(\"Task Summary\")\n",
    "print(f\"{tracker.quantum_tasks_statistics()} \\n\")\n",
    "print(\n",
    "    f\"Estimated cost to run this example: {tracker.qpu_tasks_cost() + tracker.simulator_tasks_cost():.2f} USD\"\n",
    ")"
   ]
  },
  {
   "cell_type": "markdown",
   "metadata": {},
   "source": [
    "Note: Charges shown are estimates based on your Amazon Braket simulator and quantum processing unit (QPU) task usage. Estimated charges shown may differ from your actual charges. Estimated charges do not factor in any discounts or credits, and you may experience additional charges based on your use of other services such as Amazon Elastic Compute Cloud (Amazon EC2).\n"
   ]
  }
 ],
 "metadata": {
  "kernelspec": {
   "display_name": "Python 3 (ipykernel)",
   "language": "python",
   "name": "python3"
  },
  "language_info": {
   "codemirror_mode": {
    "name": "ipython",
    "version": 3
   },
   "file_extension": ".py",
   "mimetype": "text/x-python",
   "name": "python",
   "nbconvert_exporter": "python",
   "pygments_lexer": "ipython3",
   "version": "3.9.7"
  },
  "vscode": {
   "interpreter": {
    "hash": "5904cb9a2089448a2e1aeb5d493d227c9de33e591d7c07e4016fb81e71061a5d"
   }
  }
 },
 "nbformat": 4,
 "nbformat_minor": 4
}
